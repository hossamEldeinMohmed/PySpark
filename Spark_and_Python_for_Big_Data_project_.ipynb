{
  "cells": [
    {
      "cell_type": "markdown",
      "id": "abbf1e33",
      "metadata": {
        "id": "abbf1e33"
      },
      "source": [
        "##### **Good luck with taking your exam. Keep working and make your dreams all come true. Seeing the results of all of your hard work will make this struggle worth it. We’re all thinking of you.** \n",
        "<b><font color='blue'>AI-PRO Spark Team ITI</font></b>"
      ]
    },
    {
      "cell_type": "markdown",
      "id": "c9da32d6",
      "metadata": {
        "id": "c9da32d6"
      },
      "source": [
        "# NLP Using PySpark"
      ]
    },
    {
      "cell_type": "markdown",
      "id": "8326ba88",
      "metadata": {
        "id": "8326ba88"
      },
      "source": [
        "## Objective:\n",
        "- The objective from this project is to create a <b>Spam filter using NaiveBayes classifier</b>.\n",
        "- It is required to obtain <b>f1_scored > 0.9</b>.\n",
        "- We'll use a dataset from UCI Repository. SMS Spam Detection: https://archive.ics.uci.edu/ml/datasets/SMS+Spam+Collection\n",
        "- Data is also provided for you in the assignment (you do not have to download it)."
      ]
    },
    {
      "cell_type": "markdown",
      "id": "6971f788",
      "metadata": {
        "id": "6971f788"
      },
      "source": [
        "## To perform this task follow the following guiding steps:"
      ]
    },
    {
      "cell_type": "markdown",
      "id": "e31bc851",
      "metadata": {
        "id": "e31bc851"
      },
      "source": [
        "### Create a spark session and import the required libraries"
      ]
    },
    {
      "cell_type": "code",
      "execution_count": null,
      "id": "dcf86e46",
      "metadata": {
        "colab": {
          "base_uri": "https://localhost:8080/"
        },
        "id": "dcf86e46",
        "outputId": "b98445d3-7e65-4ec6-be52-31a811f4c63f"
      },
      "outputs": [
        {
          "output_type": "stream",
          "name": "stdout",
          "text": [
            "Looking in indexes: https://pypi.org/simple, https://us-python.pkg.dev/colab-wheels/public/simple/\n",
            "Collecting pyspark\n",
            "  Downloading pyspark-3.3.0.tar.gz (281.3 MB)\n",
            "\u001b[K     |████████████████████████████████| 281.3 MB 39 kB/s \n",
            "\u001b[?25hCollecting py4j==0.10.9.5\n",
            "  Downloading py4j-0.10.9.5-py2.py3-none-any.whl (199 kB)\n",
            "\u001b[K     |████████████████████████████████| 199 kB 54.5 MB/s \n",
            "\u001b[?25hBuilding wheels for collected packages: pyspark\n",
            "  Building wheel for pyspark (setup.py) ... \u001b[?25l\u001b[?25hdone\n",
            "  Created wheel for pyspark: filename=pyspark-3.3.0-py2.py3-none-any.whl size=281764026 sha256=4cbcea530393d1a57507d4b0c9613e2acc693a41107a64df580a15c326123378\n",
            "  Stored in directory: /root/.cache/pip/wheels/7a/8e/1b/f73a52650d2e5f337708d9f6a1750d451a7349a867f928b885\n",
            "Successfully built pyspark\n",
            "Installing collected packages: py4j, pyspark\n",
            "Successfully installed py4j-0.10.9.5 pyspark-3.3.0\n"
          ]
        }
      ],
      "source": [
        "! pip install pyspark"
      ]
    },
    {
      "cell_type": "code",
      "execution_count": null,
      "id": "q97SSkDjZClR",
      "metadata": {
        "id": "q97SSkDjZClR"
      },
      "outputs": [],
      "source": [
        "from pyspark.sql import SparkSession\n",
        "from pyspark.sql.functions import *"
      ]
    },
    {
      "cell_type": "code",
      "execution_count": null,
      "id": "7gR--A0uZC_e",
      "metadata": {
        "id": "7gR--A0uZC_e"
      },
      "outputs": [],
      "source": [
        "spark = SparkSession.builder.getOrCreate()"
      ]
    },
    {
      "cell_type": "markdown",
      "id": "90c7df9e",
      "metadata": {
        "id": "90c7df9e"
      },
      "source": [
        "### Read the readme file to learn more about the data"
      ]
    },
    {
      "cell_type": "markdown",
      "id": "2d00718f",
      "metadata": {
        "id": "2d00718f"
      },
      "source": [
        "### Read the data into a DataFrame"
      ]
    },
    {
      "cell_type": "code",
      "execution_count": null,
      "id": "29914cf1",
      "metadata": {
        "id": "29914cf1"
      },
      "outputs": [],
      "source": [
        "data= spark.read.load(\"SMSSpamCollection\",format=\"csv\", sep=\"\\t\", inferSchema=\"true\")"
      ]
    },
    {
      "cell_type": "markdown",
      "id": "182cd7f6",
      "metadata": {
        "id": "182cd7f6"
      },
      "source": [
        "### Print the schema"
      ]
    },
    {
      "cell_type": "code",
      "execution_count": null,
      "id": "b52706b9",
      "metadata": {
        "colab": {
          "base_uri": "https://localhost:8080/"
        },
        "id": "b52706b9",
        "outputId": "a38fea71-2f4a-4e94-ba26-014e13fb7fec"
      },
      "outputs": [
        {
          "output_type": "stream",
          "name": "stdout",
          "text": [
            "root\n",
            " |-- _c0: string (nullable = true)\n",
            " |-- _c1: string (nullable = true)\n",
            "\n"
          ]
        }
      ],
      "source": [
        "data.printSchema()"
      ]
    },
    {
      "cell_type": "code",
      "execution_count": null,
      "id": "rqIaeZGzbjvn",
      "metadata": {
        "colab": {
          "base_uri": "https://localhost:8080/"
        },
        "id": "rqIaeZGzbjvn",
        "outputId": "0377d7b8-b0f7-4409-d67d-9db52031365e"
      },
      "outputs": [
        {
          "output_type": "stream",
          "name": "stdout",
          "text": [
            "+----+--------------------+\n",
            "| _c0|                 _c1|\n",
            "+----+--------------------+\n",
            "| ham|Go until jurong p...|\n",
            "| ham|Ok lar... Joking ...|\n",
            "|spam|Free entry in 2 a...|\n",
            "| ham|U dun say so earl...|\n",
            "| ham|Nah I don't think...|\n",
            "|spam|FreeMsg Hey there...|\n",
            "| ham|Even my brother i...|\n",
            "| ham|As per your reque...|\n",
            "|spam|WINNER!! As a val...|\n",
            "|spam|Had your mobile 1...|\n",
            "| ham|I'm gonna be home...|\n",
            "|spam|SIX chances to wi...|\n",
            "|spam|URGENT! You have ...|\n",
            "| ham|I've been searchi...|\n",
            "| ham|I HAVE A DATE ON ...|\n",
            "|spam|XXXMobileMovieClu...|\n",
            "| ham|Oh k...i'm watchi...|\n",
            "| ham|Eh u remember how...|\n",
            "| ham|Fine if thats th...|\n",
            "|spam|England v Macedon...|\n",
            "+----+--------------------+\n",
            "only showing top 20 rows\n",
            "\n"
          ]
        }
      ],
      "source": [
        "data.show()"
      ]
    },
    {
      "cell_type": "markdown",
      "id": "2b90cce7",
      "metadata": {
        "id": "2b90cce7"
      },
      "source": [
        "### Rename the first column to 'class' and second column to 'text'"
      ]
    },
    {
      "cell_type": "code",
      "execution_count": null,
      "id": "f1a88df6",
      "metadata": {
        "id": "f1a88df6",
        "scrolled": false
      },
      "outputs": [],
      "source": [
        "data = data.withColumnRenamed(\"_c0\",'class')\n",
        "data = data.withColumnRenamed(\"_c1\", 'text')"
      ]
    },
    {
      "cell_type": "code",
      "execution_count": null,
      "id": "62a544fc",
      "metadata": {
        "colab": {
          "base_uri": "https://localhost:8080/"
        },
        "id": "62a544fc",
        "outputId": "803bdca2-0840-4a49-8eb0-dc0941a407eb"
      },
      "outputs": [
        {
          "output_type": "stream",
          "name": "stdout",
          "text": [
            "root\n",
            " |-- class: string (nullable = true)\n",
            " |-- text: string (nullable = true)\n",
            "\n"
          ]
        }
      ],
      "source": [
        "data.printSchema()"
      ]
    },
    {
      "cell_type": "markdown",
      "id": "a3e798d0",
      "metadata": {
        "id": "a3e798d0"
      },
      "source": [
        "### Show the first 10 rows from the dataframe\n",
        "- Show once with truncate=True and once with truncate=False"
      ]
    },
    {
      "cell_type": "code",
      "execution_count": null,
      "id": "362dcb99",
      "metadata": {
        "colab": {
          "base_uri": "https://localhost:8080/"
        },
        "id": "362dcb99",
        "outputId": "86923313-2a1c-49a5-db12-164756065c60"
      },
      "outputs": [
        {
          "output_type": "stream",
          "name": "stdout",
          "text": [
            "+-----+--------------------+\n",
            "|class|                text|\n",
            "+-----+--------------------+\n",
            "|  ham|Go until jurong p...|\n",
            "|  ham|Ok lar... Joking ...|\n",
            "| spam|Free entry in 2 a...|\n",
            "|  ham|U dun say so earl...|\n",
            "|  ham|Nah I don't think...|\n",
            "| spam|FreeMsg Hey there...|\n",
            "|  ham|Even my brother i...|\n",
            "|  ham|As per your reque...|\n",
            "| spam|WINNER!! As a val...|\n",
            "| spam|Had your mobile 1...|\n",
            "+-----+--------------------+\n",
            "only showing top 10 rows\n",
            "\n"
          ]
        }
      ],
      "source": [
        "data.show(10,truncate=True)"
      ]
    },
    {
      "cell_type": "code",
      "execution_count": null,
      "id": "41609e6b",
      "metadata": {
        "colab": {
          "base_uri": "https://localhost:8080/"
        },
        "id": "41609e6b",
        "outputId": "5502f78d-88b2-406e-dfc5-ac2803aaef9c"
      },
      "outputs": [
        {
          "output_type": "stream",
          "name": "stdout",
          "text": [
            "+-----+----------------------------------------------------------------------------------------------------------------------------------------------------------------+\n",
            "|class|text                                                                                                                                                            |\n",
            "+-----+----------------------------------------------------------------------------------------------------------------------------------------------------------------+\n",
            "|ham  |Go until jurong point, crazy.. Available only in bugis n great world la e buffet... Cine there got amore wat...                                                 |\n",
            "|ham  |Ok lar... Joking wif u oni...                                                                                                                                   |\n",
            "|spam |Free entry in 2 a wkly comp to win FA Cup final tkts 21st May 2005. Text FA to 87121 to receive entry question(std txt rate)T&C's apply 08452810075over18's     |\n",
            "|ham  |U dun say so early hor... U c already then say...                                                                                                               |\n",
            "|ham  |Nah I don't think he goes to usf, he lives around here though                                                                                                   |\n",
            "|spam |FreeMsg Hey there darling it's been 3 week's now and no word back! I'd like some fun you up for it still? Tb ok! XxX std chgs to send, £1.50 to rcv             |\n",
            "|ham  |Even my brother is not like to speak with me. They treat me like aids patent.                                                                                   |\n",
            "|ham  |As per your request 'Melle Melle (Oru Minnaminunginte Nurungu Vettam)' has been set as your callertune for all Callers. Press *9 to copy your friends Callertune|\n",
            "|spam |WINNER!! As a valued network customer you have been selected to receivea £900 prize reward! To claim call 09061701461. Claim code KL341. Valid 12 hours only.   |\n",
            "|spam |Had your mobile 11 months or more? U R entitled to Update to the latest colour mobiles with camera for Free! Call The Mobile Update Co FREE on 08002986030      |\n",
            "+-----+----------------------------------------------------------------------------------------------------------------------------------------------------------------+\n",
            "only showing top 10 rows\n",
            "\n"
          ]
        }
      ],
      "source": [
        "data.show(10 , truncate=False)"
      ]
    },
    {
      "cell_type": "markdown",
      "id": "2fe744a9",
      "metadata": {
        "id": "2fe744a9"
      },
      "source": [
        "## Clean and Prepare the Data"
      ]
    },
    {
      "cell_type": "markdown",
      "id": "4d693167",
      "metadata": {
        "id": "4d693167"
      },
      "source": [
        "### Create a new feature column contains the length of the text column"
      ]
    },
    {
      "cell_type": "code",
      "execution_count": null,
      "id": "5424a0cb",
      "metadata": {
        "id": "5424a0cb"
      },
      "outputs": [],
      "source": [
        "from pyspark.sql.functions import length\n",
        "data = data.withColumn('length_of_text', length(data.text))\n"
      ]
    },
    {
      "cell_type": "markdown",
      "id": "78ea2de6",
      "metadata": {
        "id": "78ea2de6"
      },
      "source": [
        "### Show the new dataframe"
      ]
    },
    {
      "cell_type": "code",
      "execution_count": null,
      "id": "04c67c53",
      "metadata": {
        "colab": {
          "base_uri": "https://localhost:8080/"
        },
        "id": "04c67c53",
        "outputId": "cc858eb2-02ad-4087-eabe-c7370afa6014",
        "scrolled": false
      },
      "outputs": [
        {
          "output_type": "stream",
          "name": "stdout",
          "text": [
            "+-----+--------------------+--------------+\n",
            "|class|                text|length_of_text|\n",
            "+-----+--------------------+--------------+\n",
            "|  ham|Go until jurong p...|           111|\n",
            "|  ham|Ok lar... Joking ...|            29|\n",
            "| spam|Free entry in 2 a...|           155|\n",
            "|  ham|U dun say so earl...|            49|\n",
            "|  ham|Nah I don't think...|            61|\n",
            "| spam|FreeMsg Hey there...|           147|\n",
            "|  ham|Even my brother i...|            77|\n",
            "|  ham|As per your reque...|           160|\n",
            "| spam|WINNER!! As a val...|           157|\n",
            "| spam|Had your mobile 1...|           154|\n",
            "|  ham|I'm gonna be home...|           109|\n",
            "| spam|SIX chances to wi...|           136|\n",
            "| spam|URGENT! You have ...|           155|\n",
            "|  ham|I've been searchi...|           196|\n",
            "|  ham|I HAVE A DATE ON ...|            35|\n",
            "| spam|XXXMobileMovieClu...|           149|\n",
            "|  ham|Oh k...i'm watchi...|            26|\n",
            "|  ham|Eh u remember how...|            81|\n",
            "|  ham|Fine if thats th...|            56|\n",
            "| spam|England v Macedon...|           155|\n",
            "+-----+--------------------+--------------+\n",
            "only showing top 20 rows\n",
            "\n"
          ]
        }
      ],
      "source": [
        "data.show()"
      ]
    },
    {
      "cell_type": "markdown",
      "id": "692e37a6",
      "metadata": {
        "id": "692e37a6"
      },
      "source": [
        "### Get the average text length for each class (give alias name to the average length column)"
      ]
    },
    {
      "cell_type": "code",
      "execution_count": null,
      "id": "5c32727d",
      "metadata": {
        "id": "5c32727d"
      },
      "outputs": [],
      "source": [
        "data.createOrReplaceTempView(\"TempView\")\n"
      ]
    },
    {
      "cell_type": "code",
      "execution_count": null,
      "id": "_oxZnzjHeySh",
      "metadata": {
        "colab": {
          "base_uri": "https://localhost:8080/"
        },
        "id": "_oxZnzjHeySh",
        "outputId": "22abc4fd-8f72-4737-faf7-8c81383a5ae3"
      },
      "outputs": [
        {
          "output_type": "stream",
          "name": "stdout",
          "text": [
            "+-----+-------------------+\n",
            "|class|avg(length_of_text)|\n",
            "+-----+-------------------+\n",
            "|  ham|  71.45431945307645|\n",
            "| spam|  138.6706827309237|\n",
            "+-----+-------------------+\n",
            "\n"
          ]
        }
      ],
      "source": [
        "spark.sql(\"select  class , avg(length_of_text) from TempView group By(class)\").show()"
      ]
    },
    {
      "cell_type": "markdown",
      "id": "d5e101af",
      "metadata": {
        "id": "d5e101af"
      },
      "source": [
        "## Feature Transformations"
      ]
    },
    {
      "cell_type": "markdown",
      "id": "838ad9dd",
      "metadata": {
        "id": "838ad9dd"
      },
      "source": [
        "### In this part you transform you raw text in to tf_idf model :\n",
        "- For more information about TF-IDF check the following link: <b>(Not needed for the test)</b>\n",
        "https://en.wikipedia.org/wiki/Tf%E2%80%93idf"
      ]
    },
    {
      "cell_type": "markdown",
      "id": "225067d5",
      "metadata": {
        "id": "225067d5"
      },
      "source": [
        "### Perform the following steps to obtain TF-IDF:\n",
        "1. Import the required transformers/estimators for the subsequent steps.\n",
        "2. Create a <b>Tokenizer</b> from the text column.\n",
        "3. Create a <b>StopWordsRemover</b> to remove the <b>stop words</b> from the column obtained from the <b>Tokenizer</b>.\n",
        "4. Create a <b>CountVectorizer</b> after removing the <b>stop words</b>.\n",
        "5. Create the <b>TF-IDF</b> from the <b>CountVectorizer</b>."
      ]
    },
    {
      "cell_type": "code",
      "source": [
        "from pyspark.ml.feature import Tokenizer,StopWordsRemover, CountVectorizer,IDF,StringIndexer\n"
      ],
      "metadata": {
        "id": "71d3v4F8u12Q"
      },
      "id": "71d3v4F8u12Q",
      "execution_count": null,
      "outputs": []
    },
    {
      "cell_type": "code",
      "source": [
        "tkn = Tokenizer(inputCol=\"text\", outputCol=\"Tokenize\")\n",
        "stopwords = StopWordsRemover(inputCol='Tokenize',outputCol='stopWords')\n",
        "count_vec = CountVectorizer(inputCol = \"stopWords\" , outputCol=\"CountVectorizer\")\n",
        "idf = IDF(inputCol=\"CountVectorizer\", outputCol=\"TF-IDF\")"
      ],
      "metadata": {
        "id": "lSDzUxgOu7_S"
      },
      "id": "lSDzUxgOu7_S",
      "execution_count": null,
      "outputs": []
    },
    {
      "cell_type": "markdown",
      "id": "1527ad65",
      "metadata": {
        "id": "1527ad65"
      },
      "source": [
        "- Convert the <b>class column</b> to index using <b>StringIndexer</b>\n",
        "- Create feature column from the <b>TF-IDF</b> and <b>lenght</b> columns."
      ]
    },
    {
      "cell_type": "code",
      "execution_count": null,
      "id": "aaf46159",
      "metadata": {
        "id": "aaf46159"
      },
      "outputs": [],
      "source": [
        "from pyspark.ml.feature import StringIndexer,VectorAssembler\n",
        "\n",
        "labels = StringIndexer(inputCol='class',outputCol='label')\n",
        "features = VectorAssembler(inputCols=['TF-IDF','length_of_text'],outputCol='features')\n"
      ]
    },
    {
      "cell_type": "markdown",
      "id": "9775d494",
      "metadata": {
        "id": "9775d494"
      },
      "source": [
        "## The Model\n",
        "- Create a <b>NaiveBayes</b> classifier with the default parameters."
      ]
    },
    {
      "cell_type": "code",
      "execution_count": null,
      "id": "57af0d5d",
      "metadata": {
        "id": "57af0d5d"
      },
      "outputs": [],
      "source": [
        "from pyspark.ml.classification import NaiveBayes\n",
        "model = NaiveBayes()"
      ]
    },
    {
      "cell_type": "code",
      "execution_count": null,
      "id": "54c7384e",
      "metadata": {
        "id": "54c7384e"
      },
      "outputs": [],
      "source": []
    },
    {
      "cell_type": "markdown",
      "id": "dc14de63",
      "metadata": {
        "id": "dc14de63"
      },
      "source": [
        "## Pipeline\n",
        "### Create a pipeline model contains all the steps starting from the Tokenizer to the NaiveBays classifier."
      ]
    },
    {
      "cell_type": "code",
      "execution_count": null,
      "id": "8ee0d1ca",
      "metadata": {
        "id": "8ee0d1ca"
      },
      "outputs": [],
      "source": [
        "from pyspark.ml import Pipeline\n",
        "pipe=Pipeline(stages=[labels,tkn,stopwords,count_vec,idf,features,model])\n",
        "\n"
      ]
    },
    {
      "cell_type": "markdown",
      "id": "f5d7efbe",
      "metadata": {
        "id": "f5d7efbe"
      },
      "source": [
        "### Split your data to trian and test data with ratios 0.7 and 0.3 respectively."
      ]
    },
    {
      "cell_type": "code",
      "execution_count": null,
      "id": "2843d997",
      "metadata": {
        "colab": {
          "base_uri": "https://localhost:8080/"
        },
        "id": "2843d997",
        "outputId": "24e0bcad-ee1d-44d4-e91c-e208e7871156"
      },
      "outputs": [
        {
          "output_type": "stream",
          "name": "stdout",
          "text": [
            "+-----+--------------------+--------------+\n",
            "|class|                text|length_of_text|\n",
            "+-----+--------------------+--------------+\n",
            "|  ham| &lt;#&gt;  in mc...|            36|\n",
            "|  ham| &lt;#&gt;  mins ...|            51|\n",
            "|  ham| &lt;DECIMAL&gt; ...|           132|\n",
            "|  ham| and  picking the...|            41|\n",
            "|  ham| gonna let me kno...|            95|\n",
            "|  ham| says that he's q...|           200|\n",
            "|  ham| what number do u...|            36|\n",
            "|  ham|\"Gimme a few\" was...|            41|\n",
            "|  ham|\"Happy valentines...|           147|\n",
            "|  ham|\"Its Ur luck to L...|           155|\n",
            "|  ham|\"Life is nothing ...|           159|\n",
            "|  ham|\"Response\" is one...|           154|\n",
            "|  ham|\"SYMPTOMS\" when U...|           139|\n",
            "|  ham|\"Speak only when ...|            80|\n",
            "|  ham|\"The world suffer...|           129|\n",
            "|  ham|\"Wen u miss someo...|           143|\n",
            "|  ham|&lt;#&gt;  am I t...|            45|\n",
            "|  ham|&lt;#&gt;  great ...|            85|\n",
            "|  ham|&lt;#&gt;  w jett...|            37|\n",
            "|  ham|&lt;#&gt; , that'...|            48|\n",
            "+-----+--------------------+--------------+\n",
            "only showing top 20 rows\n",
            "\n"
          ]
        }
      ],
      "source": [
        "\n",
        "train_df,test_df = data.randomSplit([0.7, 0.3],15)\n",
        "train_df.show()"
      ]
    },
    {
      "cell_type": "markdown",
      "id": "8bcea576",
      "metadata": {
        "id": "8bcea576"
      },
      "source": [
        "### Fit your Pipeline model to the training data"
      ]
    },
    {
      "cell_type": "code",
      "execution_count": null,
      "id": "3c5d4681",
      "metadata": {
        "id": "3c5d4681"
      },
      "outputs": [],
      "source": [
        "pipeline_model=pipe.fit(train_df)"
      ]
    },
    {
      "cell_type": "markdown",
      "id": "228a3eb1",
      "metadata": {
        "id": "228a3eb1"
      },
      "source": [
        "### Perform predictions on tests dataframe"
      ]
    },
    {
      "cell_type": "code",
      "execution_count": null,
      "id": "14f4aab5",
      "metadata": {
        "colab": {
          "base_uri": "https://localhost:8080/"
        },
        "id": "14f4aab5",
        "outputId": "43f179be-c010-43e6-ee33-711c68bd93a2"
      },
      "outputs": [
        {
          "output_type": "stream",
          "name": "stdout",
          "text": [
            "+-----+--------------------+--------------+-----+--------------------+--------------------+--------------------+--------------------+--------------------+--------------------+--------------------+----------+\n",
            "|class|                text|length_of_text|label|            Tokenize|           stopWords|     CountVectorizer|              TF-IDF|            features|       rawPrediction|         probability|prediction|\n",
            "+-----+--------------------+--------------+-----+--------------------+--------------------+--------------------+--------------------+--------------------+--------------------+--------------------+----------+\n",
            "|  ham| came to look at ...|           103|  0.0|[, came, to, look...|[, came, look, fl...|(10725,[3,11,199,...|(10725,[3,11,199,...|(10726,[3,11,199,...|[-830.87448469919...|[1.0,1.0224238648...|       0.0|\n",
            "|  ham| said kiss, kiss,...|           133|  0.0|[, said, kiss,, k...|[, said, kiss,, k...|(10725,[3,122,223...|(10725,[3,122,223...|(10726,[3,122,223...|[-569.42030802410...|[1.0,5.3238869466...|       0.0|\n",
            "|  ham|&lt;#&gt;  is fas...|           461|  0.0|[&lt;#&gt;, , is,...|[&lt;#&gt;, , fas...|(10725,[0,3,6,9,1...|(10725,[0,3,6,9,1...|(10726,[0,3,6,9,1...|[-1920.8254098888...|[1.0,1.1016485068...|       0.0|\n",
            "|  ham|&lt;#&gt; %of ppl...|           327|  0.0|[&lt;#&gt;, %of, ...|[&lt;#&gt;, %of, ...|(10725,[0,2,3,4,6...|(10725,[0,2,3,4,6...|(10726,[0,2,3,4,6...|[-1556.9407537592...|[1.0,3.8542731121...|       0.0|\n",
            "|  ham|&lt;#&gt; ISH MIN...|            45|  0.0|[&lt;#&gt;, ish, ...|[&lt;#&gt;, ish, ...|(10725,[6,263,278...|(10725,[6,263,278...|(10726,[6,263,278...|[-415.22988909204...|[1.0,2.1154014667...|       0.0|\n",
            "|  ham|'Wnevr i wana fal...|           155|  0.0|['wnevr, i, wana,...|['wnevr, wana, fa...|(10725,[10,114,20...|(10725,[10,114,20...|(10726,[10,114,20...|[-392.69015822261...|[1.0,2.4764362970...|       0.0|\n",
            "|  ham|(I should add tha...|           132|  0.0|[(i, should, add,...|[(i, add, really,...|(10725,[4,19,79,1...|(10725,[4,19,79,1...|(10726,[4,19,79,1...|[-512.23274068092...|[1.0,1.1087085433...|       0.0|\n",
            "|  ham|(No promises on w...|            60|  0.0|[(no, promises, o...|[(no, promises, t...|(10725,[134,404,3...|(10725,[134,404,3...|(10726,[134,404,3...|[-272.99908895243...|[1.0,3.4661887952...|       0.0|\n",
            "|  ham|(That said can yo...|            43|  0.0|[(that, said, can...|[(that, said, tex...|(10725,[17,28,122...|(10725,[17,28,122...|(10726,[17,28,122...|[-113.41935918106...|[0.99999999990883...|       0.0|\n",
            "|  ham|(You didn't hear ...|            28|  0.0|[(you, didn't, he...|   [(you, hear, me)]| (10725,[313],[1.0])|(10725,[313],[5.3...|(10726,[313,10725...|[-60.677714165534...|[0.99982865639646...|       0.0|\n",
            "|  ham|      * Am on my way|            14|  0.0|[*, am, on, my, way]|            [*, way]|(10725,[80,209],[...|(10725,[80,209],[...|(10726,[80,209,10...|[-82.661126907820...|[0.99999999999997...|       0.0|\n",
            "|  ham|* Thought I didn'...|            27|  0.0|[*, thought, i, d...|[*, thought, see,...|(10725,[29,75,173...|(10725,[29,75,173...|(10726,[29,75,173...|[-155.25702408969...|[0.99999999999982...|       0.0|\n",
            "|  ham|* Was really good...|            69|  0.0|[*, was, really, ...|[*, really, good,...|(10725,[18,29,44,...|(10725,[18,29,44,...|(10726,[18,29,44,...|[-284.01461213607...|[1.0,1.6164615999...|       0.0|\n",
            "|  ham|* You gonna ring ...|            37|  0.0|[*, you, gonna, r...|[*, gonna, ring, ...|(10725,[100,209,4...|(10725,[100,209,4...|(10726,[100,209,4...|[-206.02417544934...|[0.99999999999701...|       0.0|\n",
            "|  ham|, ow u dey.i paid...|            55|  0.0|[,, ow, u, dey.i,...|[,, ow, u, dey.i,...|(10725,[0,1,3,10,...|(10725,[0,1,3,10,...|(10726,[0,1,3,10,...|[-259.59690723186...|[1.0,7.4425450798...|       0.0|\n",
            "|  ham|.Please charge my...|            52|  0.0|[.please, charge,...|[.please, charge,...|(10725,[4,39,668,...|(10725,[4,39,668,...|(10726,[4,39,668,...|[-196.64601935896...|[0.99999817842215...|       0.0|\n",
            "|  ham|1) Go to write ms...|           141|  0.0|[1), go, to, writ...|[1), go, write, m...|(10725,[3,5,6,7,1...|(10725,[3,5,6,7,1...|(10726,[3,5,6,7,1...|[-1248.3003648202...|[1.0,2.9266933506...|       0.0|\n",
            "|  ham|1) Go to write ms...|           141|  0.0|[1), go, to, writ...|[1), go, write, m...|(10725,[3,5,6,7,1...|(10725,[3,5,6,7,1...|(10726,[3,5,6,7,1...|[-1248.3003648202...|[1.0,2.9266933506...|       0.0|\n",
            "|  ham|1. Tension face 2...|           158|  0.0|[1., tension, fac...|[1., tension, fac...|(10725,[3,6,670,8...|(10725,[3,6,670,8...|(10726,[3,6,670,8...|[-1222.2960314274...|[1.0,8.3973269349...|       0.0|\n",
            "|  ham|2 and half years ...|            44|  0.0|[2, and, half, ye...|[2, half, years, ...|(10725,[2,222,324...|(10725,[2,222,324...|(10726,[2,222,324...|[-186.13577996434...|[0.26814653044443...|       1.0|\n",
            "+-----+--------------------+--------------+-----+--------------------+--------------------+--------------------+--------------------+--------------------+--------------------+--------------------+----------+\n",
            "only showing top 20 rows\n",
            "\n"
          ]
        }
      ],
      "source": [
        "\n",
        "test_results = pipeline_model.transform(test_df)\n",
        "test_results.show()"
      ]
    },
    {
      "cell_type": "markdown",
      "id": "bce2885f",
      "metadata": {
        "id": "bce2885f"
      },
      "source": [
        "### Print the schema of the prediction dataframe"
      ]
    },
    {
      "cell_type": "code",
      "execution_count": null,
      "id": "6e3ea341",
      "metadata": {
        "colab": {
          "base_uri": "https://localhost:8080/"
        },
        "id": "6e3ea341",
        "outputId": "9940a5b1-9b17-434c-9d93-437e9c764851"
      },
      "outputs": [
        {
          "output_type": "stream",
          "name": "stdout",
          "text": [
            "root\n",
            " |-- class: string (nullable = true)\n",
            " |-- text: string (nullable = true)\n",
            " |-- length_of_text: integer (nullable = true)\n",
            " |-- label: double (nullable = false)\n",
            " |-- Tokenize: array (nullable = true)\n",
            " |    |-- element: string (containsNull = true)\n",
            " |-- stopWords: array (nullable = true)\n",
            " |    |-- element: string (containsNull = true)\n",
            " |-- CountVectorizer: vector (nullable = true)\n",
            " |-- TF-IDF: vector (nullable = true)\n",
            " |-- features: vector (nullable = true)\n",
            " |-- rawPrediction: vector (nullable = true)\n",
            " |-- probability: vector (nullable = true)\n",
            " |-- prediction: double (nullable = false)\n",
            "\n"
          ]
        }
      ],
      "source": [
        "test_results.printSchema()"
      ]
    },
    {
      "cell_type": "markdown",
      "id": "57f27055",
      "metadata": {
        "id": "57f27055"
      },
      "source": [
        "## Model Evaluation\n",
        "- Use <b>MulticlassClassificationEvaluator</b> to calculate the <b>f1_score</b>."
      ]
    },
    {
      "cell_type": "code",
      "execution_count": null,
      "id": "61911086",
      "metadata": {
        "colab": {
          "base_uri": "https://localhost:8080/"
        },
        "id": "61911086",
        "outputId": "f4a5afa5-7f75-47aa-ec9f-eb99a8056946"
      },
      "outputs": [
        {
          "output_type": "stream",
          "name": "stdout",
          "text": [
            "F1 Score = 0.9766357331415284\n"
          ]
        }
      ],
      "source": [
        "# default value of MulticlassClassificationEvaluator is F1score\n",
        "from pyspark.ml.evaluation import MulticlassClassificationEvaluator\n",
        "eval=MulticlassClassificationEvaluator()\n",
        "f1Score=eval.evaluate(test_results)\n",
        "print(\"F1 Score = %s\" % f1Score)"
      ]
    },
    {
      "cell_type": "code",
      "execution_count": null,
      "id": "be706565",
      "metadata": {
        "id": "be706565"
      },
      "outputs": [],
      "source": []
    },
    {
      "cell_type": "code",
      "execution_count": null,
      "id": "af1f9ba1",
      "metadata": {
        "id": "af1f9ba1"
      },
      "outputs": [],
      "source": []
    },
    {
      "cell_type": "markdown",
      "id": "e00e7b53",
      "metadata": {
        "id": "e00e7b53"
      },
      "source": [
        "# GOOD LUCK\n",
        "<b><font color='GREEN'>AI-PRO Spark Team ITI</font></b>"
      ]
    }
  ],
  "metadata": {
    "colab": {
      "provenance": [],
      "collapsed_sections": [
        "838ad9dd"
      ]
    },
    "kernelspec": {
      "display_name": "Python 3 (ipykernel)",
      "language": "python",
      "name": "python3"
    },
    "language_info": {
      "codemirror_mode": {
        "name": "ipython",
        "version": 3
      },
      "file_extension": ".py",
      "mimetype": "text/x-python",
      "name": "python",
      "nbconvert_exporter": "python",
      "pygments_lexer": "ipython3",
      "version": "3.9.7"
    }
  },
  "nbformat": 4,
  "nbformat_minor": 5
}